{
 "cells": [
  {
   "cell_type": "markdown",
   "id": "9252d4dc",
   "metadata": {},
   "source": [
    "# Andre Marroquin\n",
    "# Serio orellana "
   ]
  }
 ],
 "metadata": {
  "language_info": {
   "name": "python"
  }
 },
 "nbformat": 4,
 "nbformat_minor": 5
}

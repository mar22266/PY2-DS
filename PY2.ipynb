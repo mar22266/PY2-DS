{
 "cells": [
  {
   "cell_type": "markdown",
   "id": "9252d4dc",
   "metadata": {},
   "source": [
    "# Andre Marroquin\n",
    "# Serio orellana \n",
    "# Rodirgo mansilla\n",
    "# carlos valladares"
   ]
  },
  {
   "cell_type": "markdown",
   "id": "a3481c94",
   "metadata": {},
   "source": []
  },
  {
   "cell_type": "markdown",
   "id": "29917de5",
   "metadata": {},
   "source": [
    "## 1. Situación Problemática:\n",
    "\n",
    "En regiones agrícolas vulnerables, los periodos de **sequía** y otros **estresores bióticos/abióticos** (plagas, enfermedades, deficiencia nutricional, viento, inundación) impactan el rendimiento de los cultivos. La identificación **temprana y en terreno** del tipo y magnitud del daño permite **priorizar asistencia** y **optimizar decisiones** (riego, fertilización, control de plagas). Sin embargo, el monitoreo manual es **lento**, **costoso** y **subjetivo**.\n",
    "\n",
    "\n",
    "## Problema científico:\n",
    "\n",
    "¿Cómo **caracterizar** y **limpiar** el dataset para obtener una visión clara y confiable de la **distribución** de daños por **temporada** y **etapa de crecimiento**, identificando **patrones**, **valores atípicos** y **faltantes**, que sirvan de base para modelos posteriores de **clasificación/regresión** del daño?\n",
    "\n",
    "\n",
    "## Objetivos: \n",
    "\n",
    "Desarrollar un **análisis exploratorio** y **pipeline de preprocesamiento** para el dataset CGIAR, que permita entender la **estructura**, **calidad** y **patrones** de los datos (daños, etapas y temporadas), facilitando fases posteriores del proyecto (modelado, evaluación y despliegue)."
   ]
  },
  {
   "cell_type": "markdown",
   "id": "5f9557e1",
   "metadata": {},
   "source": [
    "## 2. Investigación preliminar\n",
    "\n",
    "- **Contexto agrícola**: La sequía reduce disponibilidad hídrica y afecta procesos fisiológicos (germinación, crecimiento vegetativo, floración), generando pérdidas.  \n",
    "- **Dimensión fenológica**: Las **etapas de crecimiento (S, V, F, M)** condicionan la **susceptibilidad** y el impacto de cada daño.  \n",
    "- **Tipos de daño (DR, DS, FD, G, ND, PS, WD, WN)**:  \n",
    "  - **DR** (Drought), **FD** (Flood): estresores abióticos con patrones visuales diferentes.  \n",
    "  - **DS** (Disease), **PS** (Pest), **WD** (Weed): bióticos y de manejo.  \n",
    "  - **ND** (Nutrient Deficient): clorosis/necrosis; **WN** (Wind): daño físico; **G** (Good): referencia de buen estado.  \n",
    "- **Etiquetado**: Extensión del daño en **porcentajes** (0–100 en pasos de 10).  \n",
    "- **Implicación para análisis**:  \n",
    "  - La **distribución por temporada** (LR/SR, 2020/2021) puede influir en patrones de daño.  \n",
    "  - La **etapa** modula la **apariencia y severidad** de daños, clave para interpretar resultados y posteriormente diseñar modelos."
   ]
  },
  {
   "cell_type": "markdown",
   "id": "9ea240ad",
   "metadata": {},
   "source": [
    "## 3. Análisis inicial del problema y los datos disponibles\n",
    "- **Archivos**: `Train.csv` (con etiquetas), `Test.csv` (sin etiquetas), `SampleSubmission.csv` (formato de envío).  \n",
    "- **Variables esperadas**:\n",
    "  - Identificador de imagen (p. ej., `ID` o similar).\n",
    "  - **Temporada** (p. ej., `LR2020`, `SR2021`), explícita o inferible desde el ID.\n",
    "  - **Etapa de crecimiento** (`F/M/S/V` o nombre completo).\n",
    "  - **Columnas de daño**: {`DR`,`DS`,`FD`,`G`,`ND`,`PS`,`WD`,`WN`} con porcentajes 0..100 (pasos de 10).\n",
    "- **Riesgos de calidad**:\n",
    "  - Falta de columnas explícitas (temporada/etapa).\n",
    "  - Tipos de datos incorrectos (strings en columnas numéricas).\n",
    "  - Etiquetas con múltiplos de 10 y ceros frecuentes → distribuciones discretas.\n",
    "  - Diferencias de distribución por **temporada** que pueden sesgar análisis.\n",
    "\n"
   ]
  },
  {
   "cell_type": "markdown",
   "id": "56410554",
   "metadata": {},
   "source": [
    "# IMPORTS Y CONFIGURACIÓN"
   ]
  },
  {
   "cell_type": "code",
   "execution_count": 14,
   "id": "38681c8c",
   "metadata": {},
   "outputs": [
    {
     "name": "stdout",
     "output_type": "stream",
     "text": [
      "RUTAS:\n",
      " - TRAIN: Train.csv\n",
      " - TEST: Test.csv\n",
      " - SAMPLE: SampleSubmission.csv\n",
      "OUTPUT_DIR: C:\\Users\\andre\\OneDrive\\Desktop\\PY2-DS\\outputs\n"
     ]
    }
   ],
   "source": [
    "# librerías\n",
    "import os\n",
    "import sys\n",
    "import math\n",
    "import json\n",
    "import textwrap\n",
    "import warnings\n",
    "from pathlib import Path\n",
    "from typing import List, Dict, Tuple\n",
    "\n",
    "import numpy as np\n",
    "import pandas as pd\n",
    "import matplotlib.pyplot as plt\n",
    "\n",
    "warnings.filterwarnings(\"ignore\")\n",
    "\n",
    "# config global\n",
    "DATA_DIR = Path(\".\") \n",
    "TRAIN_CSV = DATA_DIR / \"Train.csv\"\n",
    "TEST_CSV = DATA_DIR / \"Test.csv\"\n",
    "SAMPLE_CSV = DATA_DIR / \"SampleSubmission.csv\"\n",
    "\n",
    "OUTPUT_DIR = Path(\"./outputs\")\n",
    "OUTPUT_DIR.mkdir(parents=True, exist_ok=True)\n",
    "\n",
    "RANDOM_SEED = 42\n",
    "np.random.seed(RANDOM_SEED)\n",
    "\n",
    "# config pandas\n",
    "pd.set_option(\"display.max_columns\", 100)\n",
    "pd.set_option(\"display.width\", 120)\n",
    "\n",
    "print(\"RUTAS:\")\n",
    "print(\" - TRAIN:\", TRAIN_CSV)\n",
    "print(\" - TEST:\", TEST_CSV)\n",
    "print(\" - SAMPLE:\", SAMPLE_CSV)\n",
    "print(\"OUTPUT_DIR:\", OUTPUT_DIR.resolve())\n"
   ]
  },
  {
   "cell_type": "code",
   "execution_count": null,
   "id": "b9620961",
   "metadata": {},
   "outputs": [],
   "source": []
  }
 ],
 "metadata": {
  "kernelspec": {
   "display_name": "Python 3",
   "language": "python",
   "name": "python3"
  },
  "language_info": {
   "codemirror_mode": {
    "name": "ipython",
    "version": 3
   },
   "file_extension": ".py",
   "mimetype": "text/x-python",
   "name": "python",
   "nbconvert_exporter": "python",
   "pygments_lexer": "ipython3",
   "version": "3.12.10"
  }
 },
 "nbformat": 4,
 "nbformat_minor": 5
}
